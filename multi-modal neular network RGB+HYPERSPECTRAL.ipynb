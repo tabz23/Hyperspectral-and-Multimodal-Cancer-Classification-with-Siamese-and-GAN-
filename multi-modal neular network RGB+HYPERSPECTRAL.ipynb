{
 "cells": [
  {
   "cell_type": "code",
   "execution_count": 1,
   "metadata": {
    "colab": {
     "base_uri": "https://localhost:8080/"
    },
    "id": "sAzQghtcUdOf",
    "outputId": "77428443-8107-48e3-98b1-cdfe6906f77a"
   },
   "outputs": [
    {
     "name": "stdout",
     "output_type": "stream",
     "text": [
      "Requirement already satisfied: spectral in c:\\users\\ihabt\\anaconda3\\envs\\tff2\\lib\\site-packages (0.23.1)\n",
      "Requirement already satisfied: numpy in c:\\users\\ihabt\\anaconda3\\envs\\tff2\\lib\\site-packages (from spectral) (1.23.5)\n"
     ]
    }
   ],
   "source": [
    "!pip install spectral\n",
    "import tensorflow as tf\n",
    "from tensorflow.keras.layers import Input, Concatenate, Dense, Dropout, Flatten\n",
    "from tensorflow.keras.models import Model\n",
    "import os\n",
    "import numpy as np\n",
    "import spectral\n",
    "import spectral.io.envi as envi\n",
    "import sklearn\n",
    "from sklearn.preprocessing import LabelEncoder\n",
    "\n",
    "import cv2"
   ]
  },
  {
   "cell_type": "markdown",
   "metadata": {
    "id": "17IijUt5ZKg4"
   },
   "source": [
    "Load the data"
   ]
  },
  {
   "cell_type": "code",
   "execution_count": 75,
   "metadata": {
    "colab": {
     "base_uri": "https://localhost:8080/"
    },
    "id": "e-zUIWjAZLsi",
    "outputId": "4b96225e-302c-4bf0-b22d-37f56aa527af"
   },
   "outputs": [
    {
     "name": "stdout",
     "output_type": "stream",
     "text": [
      "Processing images in directory hyper_L...\n",
      "../rgb&hyper/Choledoch_RGB/Choledoch_RGB/L\n",
      "042145-20x-roi2.jpg\n",
      "../rgb&hyper/Choledoch_RGB/Choledoch_RGB/L\n",
      "042189c_2-20x-roi2.jpg\n",
      "../rgb&hyper/Choledoch_RGB/Choledoch_RGB/L\n",
      "042189c_2-20x-roi3.jpg\n",
      "../rgb&hyper/Choledoch_RGB/Choledoch_RGB/L\n",
      "042189c_2-20x-roi4.jpg\n",
      "../rgb&hyper/Choledoch_RGB/Choledoch_RGB/L\n",
      "042189c_2-20x-roi6.jpg\n",
      "../rgb&hyper/Choledoch_RGB/Choledoch_RGB/L\n",
      "042189c_2-20x-roi7.jpg\n",
      "Processing images in directory hyper_N...\n",
      "../rgb&hyper/Choledoch_RGB/Choledoch_RGB/N\n",
      "030968-20x-roi2.jpg\n",
      "../rgb&hyper/Choledoch_RGB/Choledoch_RGB/N\n",
      "030968-20x-roi3.jpg\n",
      "../rgb&hyper/Choledoch_RGB/Choledoch_RGB/N\n",
      "030968-20x-roi4.jpg\n",
      "Processing images in directory hyper_P...\n",
      "../rgb&hyper/Choledoch_RGB/Choledoch_RGB/P\n",
      "2tata0302-20x-roi1.jpg\n",
      "../rgb&hyper/Choledoch_RGB/Choledoch_RGB/P\n",
      "2tata0302-20x-roi2.jpg\n"
     ]
    }
   ],
   "source": [
    "rgb_images = []  \n",
    "hsi_images = []\n",
    "labels = []\n",
    "\n",
    "\n",
    "# Set the directory path for the hyperspectral images in your Google Drive\n",
    "dir_path = 'hsi_samples'\n",
    "\n",
    "stop = False\n",
    "\n",
    "for dir_name in os.listdir(dir_path):\n",
    "    if dir_name not in ['hyper_L' ,'hyper_N', 'hyper_P']:\n",
    "        continue\n",
    "\n",
    "    if (stop):\n",
    "      break\n",
    "\n",
    "    print(f'Processing images in directory {dir_name}...')\n",
    "\n",
    "    if os.path.isdir(os.path.join(dir_path, dir_name)):\n",
    "        # Get the corresponding RGB directory name\n",
    "        rgb_dir_name = dir_name.replace('hyper_', '../rgb&hyper/Choledoch_RGB/Choledoch_RGB/')\n",
    "\n",
    "        # Loop over all image files in the directory\n",
    "        for file_name in os.listdir(os.path.join(dir_path, dir_name)):\n",
    "\n",
    "\n",
    "            if file_name.endswith('.hdr'):\n",
    "                # Load the HSI image file\n",
    "                hsi_file_path = os.path.join(dir_path, dir_name, file_name)\n",
    "                hsi_image = envi.open(hsi_file_path, hsi_file_path[:-4] + '.raw')\n",
    "\n",
    "                # Preprocess the HSI image\n",
    "                hsi_data = hsi_image.load()\n",
    "                height, width = hsi_image.shape[:2]\n",
    "                hsi_data = hsi_data.reshape(height, width, -1)\n",
    "                hsi_data_min = np.min(hsi_data)\n",
    "                hsi_data_max = np.max(hsi_data)\n",
    "                hsi_data = (hsi_data - hsi_data_min) / (hsi_data_max - hsi_data_min)\n",
    "\n",
    "                # Load the corresponding RGB image file\n",
    "                rgb_file_name = os.path.splitext(file_name)[0] + '.jpg'\n",
    "                rgb_file_path = os.path.join(dir_path, rgb_dir_name, rgb_file_name)\n",
    "                if not os.path.exists(rgb_file_path):\n",
    "                  rgb_file_name = rgb_file_name[:6] + 'C' + rgb_file_name[7:]\n",
    "                  rgb_file_path = os.path.join(dir_path, rgb_dir_name, rgb_file_name)\n",
    "                \n",
    "                if not os.path.exists(rgb_file_path):\n",
    "                  continue\n",
    "                  \n",
    "                rgb_image = cv2.imread(rgb_file_path)\n",
    "                print(rgb_dir_name)\n",
    "                print(rgb_file_name)\n",
    "\n",
    "                # Preprocess the RGB image\n",
    "                rgb_data = cv2.cvtColor(rgb_image, cv2.COLOR_BGR2RGB)\n",
    "                rgb_data = rgb_data.astype(np.float32) / 255.0\n",
    "\n",
    "                # Append the preprocessed HSI and RGB images to their respective lists\n",
    "                hsi_images.append(hsi_data)\n",
    "                rgb_images.append(rgb_data)\n",
    "                labels.append(dir_name)"
   ]
  },
  {
   "cell_type": "markdown",
   "metadata": {
    "id": "8tDgfFCoctoA"
   },
   "source": [
    "Label Encoder"
   ]
  },
  {
   "cell_type": "code",
   "execution_count": 76,
   "metadata": {
    "id": "k5zwt5xveSko"
   },
   "outputs": [],
   "source": [
    "# Create a label encoder object\n",
    "le = LabelEncoder()\n",
    "\n",
    "# Fit the label encoder to the labels and transform them to integers\n",
    "labels = le.fit_transform(labels)"
   ]
  },
  {
   "cell_type": "code",
   "execution_count": 77,
   "metadata": {},
   "outputs": [],
   "source": [
    "import tensorflow as tf"
   ]
  },
  {
   "cell_type": "markdown",
   "metadata": {
    "id": "IWuax2iCUorR"
   },
   "source": [
    "Load pre-trained RGB and HSI models"
   ]
  },
  {
   "cell_type": "code",
   "execution_count": 78,
   "metadata": {
    "id": "zRfv6dOwUg-N"
   },
   "outputs": [],
   "source": [
    "rgb_model = tf.keras.models.load_model('rgb model.h5')\n",
    "hsi_model = tf.keras.models.load_model('hsi model.h5')"
   ]
  },
  {
   "cell_type": "code",
   "execution_count": 79,
   "metadata": {},
   "outputs": [],
   "source": [
    "hsi_images=np.array(hsi_images)\n",
    "rgb_images=np.array(rgb_images)\n",
    "labels=np.array(labels)"
   ]
  },
  {
   "cell_type": "code",
   "execution_count": 80,
   "metadata": {},
   "outputs": [
    {
     "name": "stdout",
     "output_type": "stream",
     "text": [
      "(11, 1728, 2304, 3)\n",
      "(11, 1024, 1280, 60)\n",
      "(11,)\n"
     ]
    }
   ],
   "source": [
    "print(rgb_images.shape)\n",
    "print(hsi_images.shape)\n",
    "print(labels.shape)\n"
   ]
  },
  {
   "cell_type": "code",
   "execution_count": 81,
   "metadata": {},
   "outputs": [],
   "source": [
    "rgb_images = np.resize(rgb_images, (11,1024, 1280, 60))\n",
    "hsi_images=np.resize(hsi_images,(11,70, 70, 60, 1))"
   ]
  },
  {
   "cell_type": "code",
   "execution_count": 243,
   "metadata": {},
   "outputs": [
    {
     "name": "stdout",
     "output_type": "stream",
     "text": [
      "(11, 1024, 1280, 60)\n",
      "(11, 70, 70, 60, 1)\n"
     ]
    }
   ],
   "source": [
    "print(rgb_images.shape)\n",
    "print(hsi_images.shape)\n"
   ]
  },
  {
   "cell_type": "code",
   "execution_count": 244,
   "metadata": {
    "id": "QFFFV1nxUzvj"
   },
   "outputs": [],
   "source": [
    "rgb_base_model = tf.keras.models.Model(inputs=rgb_model.input, outputs=rgb_model.layers[-2].output)\n",
    "hsi_base_model = tf.keras.models.Model(inputs=hsi_model.input, outputs=hsi_model.layers[-2].output)"
   ]
  },
  {
   "cell_type": "code",
   "execution_count": 245,
   "metadata": {
    "id": "lc5BstaOU4I7"
   },
   "outputs": [],
   "source": [
    "for layer in rgb_base_model.layers:\n",
    "    layer.trainable = False\n",
    "\n",
    "for layer in hsi_base_model.layers:\n",
    "    layer.trainable = False"
   ]
  },
  {
   "cell_type": "code",
   "execution_count": 281,
   "metadata": {
    "id": "iXugnRaYU84l"
   },
   "outputs": [
    {
     "name": "stdout",
     "output_type": "stream",
     "text": [
      "(None, 1024, 1280, 60)\n",
      "(None, 70, 70, 60, 1)\n"
     ]
    }
   ],
   "source": [
    "\n",
    "rgb_input=rgb_model.input\n",
    "hsi_input=hsi_model.input\n",
    "print(rgb_input.shape)\n",
    "print(hsi_input.shape)"
   ]
  },
  {
   "cell_type": "code",
   "execution_count": 282,
   "metadata": {
    "id": "5EgRYVuVVFFH"
   },
   "outputs": [],
   "source": [
    "rgb_features = rgb_base_model(rgb_input)\n",
    "hsi_features = hsi_base_model(hsi_input)"
   ]
  },
  {
   "cell_type": "code",
   "execution_count": 283,
   "metadata": {
    "id": "GLmeuCJLVMu_"
   },
   "outputs": [],
   "source": [
    "fusion = Concatenate()([rgb_features, hsi_features])"
   ]
  },
  {
   "cell_type": "markdown",
   "metadata": {
    "id": "ZKdoEGgEVObS"
   },
   "source": [
    "Add a fully connected layer"
   ]
  },
  {
   "cell_type": "code",
   "execution_count": 284,
   "metadata": {
    "id": "OjfS6al0XmGD"
   },
   "outputs": [],
   "source": [
    "x = Dense(64, activation='relu')(fusion)\n",
    "x = Dense(16, activation='relu',  kernel_regularizer=tf.keras.regularizers.l2(0.01))(x)\n",
    "# Add the output layer (3 classes)\n",
    "output = Dense(3, activation='softmax')(x)"
   ]
  },
  {
   "cell_type": "markdown",
   "metadata": {
    "id": "3yXegHDdY6kE"
   },
   "source": [
    "Deep Fusion Network Model"
   ]
  },
  {
   "cell_type": "code",
   "execution_count": 285,
   "metadata": {
    "id": "Z14Z5T4XY9L7"
   },
   "outputs": [
    {
     "name": "stdout",
     "output_type": "stream",
     "text": [
      "Model: \"model_62\"\n",
      "__________________________________________________________________________________________________\n",
      " Layer (type)                   Output Shape         Param #     Connected to                     \n",
      "==================================================================================================\n",
      " input_1 (InputLayer)           [(None, 1024, 1280,  0           []                               \n",
      "                                 60)]                                                             \n",
      "                                                                                                  \n",
      " conv3d_input (InputLayer)      [(None, 70, 70, 60,  0           []                               \n",
      "                                 1)]                                                              \n",
      "                                                                                                  \n",
      " model_54 (Functional)          (None, 50)           81814       ['input_1[0][0]']                \n",
      "                                                                                                  \n",
      " model_55 (Functional)          (None, 32)           821368      ['conv3d_input[0][0]']           \n",
      "                                                                                                  \n",
      " concatenate_27 (Concatenate)   (None, 82)           0           ['model_54[2][0]',               \n",
      "                                                                  'model_55[2][0]']               \n",
      "                                                                                                  \n",
      " dense_116 (Dense)              (None, 64)           5312        ['concatenate_27[0][0]']         \n",
      "                                                                                                  \n",
      " dense_117 (Dense)              (None, 16)           1040        ['dense_116[0][0]']              \n",
      "                                                                                                  \n",
      " dense_118 (Dense)              (None, 3)            51          ['dense_117[0][0]']              \n",
      "                                                                                                  \n",
      "==================================================================================================\n",
      "Total params: 909,585\n",
      "Trainable params: 6,403\n",
      "Non-trainable params: 903,182\n",
      "__________________________________________________________________________________________________\n"
     ]
    }
   ],
   "source": [
    "# Create the DFN model\n",
    "dfn_model = Model(inputs=[rgb_input, hsi_input], outputs=output)\n",
    "\n",
    "# Compile the model\n",
    "dfn_model.compile(optimizer='adam', loss='categorical_crossentropy', metrics=['accuracy'])\n",
    "\n",
    "# Display the model summary\n",
    "dfn_model.summary()"
   ]
  },
  {
   "cell_type": "markdown",
   "metadata": {
    "id": "Wf7JmyBlZAlU"
   },
   "source": [
    "Train the model"
   ]
  },
  {
   "cell_type": "code",
   "execution_count": 286,
   "metadata": {
    "id": "W_Ju4PJIZBhz"
   },
   "outputs": [
    {
     "name": "stdout",
     "output_type": "stream",
     "text": [
      "Epoch 1/5\n",
      "11/11 [==============================] - 3s 188ms/step - loss: 1.5152 - accuracy: 0.2727\n",
      "Epoch 2/5\n",
      "11/11 [==============================] - 2s 177ms/step - loss: 1.3515 - accuracy: 0.2727\n",
      "Epoch 3/5\n",
      "11/11 [==============================] - 2s 182ms/step - loss: 1.2963 - accuracy: 0.4545\n",
      "Epoch 4/5\n",
      "11/11 [==============================] - 2s 177ms/step - loss: 1.2679 - accuracy: 0.5455\n",
      "Epoch 5/5\n",
      "11/11 [==============================] - 2s 175ms/step - loss: 1.2321 - accuracy: 0.5455\n"
     ]
    }
   ],
   "source": [
    "one_hot_labels = tf.keras.utils.to_categorical(labels, num_classes=3)\n",
    "history = dfn_model.fit([rgb_images, hsi_images], one_hot_labels, epochs=5, batch_size=1, shuffle=True)"
   ]
  },
  {
   "cell_type": "markdown",
   "metadata": {
    "id": "emE5gTX4ZDgV"
   },
   "source": [
    "Plot training metrics"
   ]
  },
  {
   "cell_type": "code",
   "execution_count": 287,
   "metadata": {
    "id": "Lb0THCDMZFs8"
   },
   "outputs": [
    {
     "data": {
      "image/png": "[encoded data removed]",
      "text/plain": [
       "<Figure size 640x480 with 1 Axes>"
      ]
     },
     "metadata": {},
     "output_type": "display_data"
    }
   ],
   "source": [
    "plt.plot(range(1, len(history.history[\"accuracy\"]) + 1), history.history[\"accuracy\"])\n",
    "plt.title(\"Accuracy\")\n",
    "plt.xlabel(\"Epoch\")\n",
    "plt.ylabel(\"Accuracy\")\n",
    "plt.show()"
   ]
  },
  {
   "cell_type": "code",
   "execution_count": null,
   "metadata": {},
   "outputs": [],
   "source": []
  },
  {
   "cell_type": "code",
   "execution_count": null,
   "metadata": {},
   "outputs": [],
   "source": []
  }
 ],
 "metadata": {
  "colab": {
   "provenance": []
  },
  "kernelspec": {
   "display_name": "Python 3 (ipykernel)",
   "language": "python",
   "name": "python3"
  },
  "language_info": {
   "codemirror_mode": {
    "name": "ipython",
    "version": 3
   },
   "file_extension": ".py",
   "mimetype": "text/x-python",
   "name": "python",
   "nbconvert_exporter": "python",
   "pygments_lexer": "ipython3",
   "version": "3.8.0"
  }
 },
 "nbformat": 4,
 "nbformat_minor": 4
}
